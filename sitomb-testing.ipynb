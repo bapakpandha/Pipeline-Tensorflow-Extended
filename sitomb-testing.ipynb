{
 "cells": [
  {
   "cell_type": "code",
   "execution_count": 10,
   "id": "dd9b155e-a301-450a-a145-bccfcb4452f7",
   "metadata": {},
   "outputs": [],
   "source": [
    "import requests\n",
    "import pandas as pd\n",
    "import tensorflow as tf\n",
    "import json\n",
    "import base64"
   ]
  },
  {
   "cell_type": "code",
   "execution_count": 16,
   "id": "72056042-f38c-4458-ad99-03b769b80470",
   "metadata": {},
   "outputs": [],
   "source": [
    "data = pd.read_csv('dataset/clickbait.csv')"
   ]
  },
  {
   "cell_type": "code",
   "execution_count": 17,
   "id": "832ca277-c8ce-48b7-bfb7-4a6d242271b7",
   "metadata": {},
   "outputs": [
    {
     "name": "stdout",
     "output_type": "stream",
     "text": [
      "<class 'pandas.core.frame.DataFrame'>\n",
      "RangeIndex: 32000 entries, 0 to 31999\n",
      "Data columns (total 2 columns):\n",
      " #   Column     Non-Null Count  Dtype \n",
      "---  ------     --------------  ----- \n",
      " 0   headline   32000 non-null  object\n",
      " 1   clickbait  32000 non-null  int64 \n",
      "dtypes: int64(1), object(1)\n",
      "memory usage: 500.1+ KB\n"
     ]
    }
   ],
   "source": [
    "data.info()"
   ]
  },
  {
   "cell_type": "code",
   "execution_count": 18,
   "id": "7b70d106-63b9-4fd0-ab10-7fdc707dea28",
   "metadata": {},
   "outputs": [
    {
     "data": {
      "text/html": [
       "<div>\n",
       "<style scoped>\n",
       "    .dataframe tbody tr th:only-of-type {\n",
       "        vertical-align: middle;\n",
       "    }\n",
       "\n",
       "    .dataframe tbody tr th {\n",
       "        vertical-align: top;\n",
       "    }\n",
       "\n",
       "    .dataframe thead th {\n",
       "        text-align: right;\n",
       "    }\n",
       "</style>\n",
       "<table border=\"1\" class=\"dataframe\">\n",
       "  <thead>\n",
       "    <tr style=\"text-align: right;\">\n",
       "      <th></th>\n",
       "      <th>headline</th>\n",
       "      <th>clickbait</th>\n",
       "    </tr>\n",
       "  </thead>\n",
       "  <tbody>\n",
       "    <tr>\n",
       "      <th>0</th>\n",
       "      <td>Should I Get Bings</td>\n",
       "      <td>1</td>\n",
       "    </tr>\n",
       "    <tr>\n",
       "      <th>1</th>\n",
       "      <td>Which TV Female Friend Group Do You Belong In</td>\n",
       "      <td>1</td>\n",
       "    </tr>\n",
       "    <tr>\n",
       "      <th>2</th>\n",
       "      <td>The New \"Star Wars: The Force Awakens\" Trailer...</td>\n",
       "      <td>1</td>\n",
       "    </tr>\n",
       "    <tr>\n",
       "      <th>3</th>\n",
       "      <td>This Vine Of New York On \"Celebrity Big Brothe...</td>\n",
       "      <td>1</td>\n",
       "    </tr>\n",
       "    <tr>\n",
       "      <th>4</th>\n",
       "      <td>A Couple Did A Stunning Photo Shoot With Their...</td>\n",
       "      <td>1</td>\n",
       "    </tr>\n",
       "  </tbody>\n",
       "</table>\n",
       "</div>"
      ],
      "text/plain": [
       "                                            headline  clickbait\n",
       "0                                 Should I Get Bings          1\n",
       "1      Which TV Female Friend Group Do You Belong In          1\n",
       "2  The New \"Star Wars: The Force Awakens\" Trailer...          1\n",
       "3  This Vine Of New York On \"Celebrity Big Brothe...          1\n",
       "4  A Couple Did A Stunning Photo Shoot With Their...          1"
      ]
     },
     "execution_count": 18,
     "metadata": {},
     "output_type": "execute_result"
    }
   ],
   "source": [
    "data.head()"
   ]
  },
  {
   "cell_type": "code",
   "execution_count": 19,
   "id": "301c064f-0587-4085-b256-bec62d486594",
   "metadata": {},
   "outputs": [
    {
     "data": {
      "text/plain": [
       "'Which TV Female Friend Group Do You Belong In'"
      ]
     },
     "execution_count": 19,
     "metadata": {},
     "output_type": "execute_result"
    }
   ],
   "source": [
    "text_test = data['headline'][1]\n",
    "text_test"
   ]
  },
  {
   "cell_type": "code",
   "execution_count": 20,
   "id": "4fd64ef2-eb9c-40f2-a35f-a430d4d8ea35",
   "metadata": {},
   "outputs": [],
   "source": [
    "def prepare_json(text):\n",
    "    feature_spec = {\n",
    "        \"headline\": tf.train.Feature(bytes_list=tf.train.BytesList(value=[bytes(text, \"utf-8\")])),\n",
    "    }\n",
    "    \n",
    "    example = tf.train.Example(\n",
    "        features=tf.train.Features(feature=feature_spec)\n",
    "    ).SerializeToString()\n",
    "    \n",
    "    result = [\n",
    "        {\n",
    "            \"examples\": {\n",
    "                \"b64\": base64.b64encode(example).decode()\n",
    "            }\n",
    "        }\n",
    "    ]\n",
    "    \n",
    "    return json.dumps({\n",
    "        \"signature_name\": \"serving_default\",\n",
    "        \"instances\": result\n",
    "    })\n",
    "\n",
    "def make_predict(text):\n",
    "    json_data = prepare_json(text)\n",
    "\n",
    "    endpoint = \"http://103.190.215.122:8501/v1/models/clickbait_prediction:predict\"\n",
    "    response = requests.post(endpoint, data=json_data)\n",
    "\n",
    "    prediction = response.json().get(\"predictions\")\n",
    "\n",
    "    if prediction:\n",
    "        prediction_value = prediction[0][0]\n",
    "        result = f\"{prediction_value*100.0:.1f}%: Clickbait\"\n",
    "    else:\n",
    "        result = f\"Error (endpoint tidak mereply dengan prediksi) \\n {response.json()}\"\n",
    "\n",
    "    print(result)"
   ]
  },
  {
   "cell_type": "code",
   "execution_count": 21,
   "id": "7819ec96-ffb1-44de-a554-d2fe812fda6b",
   "metadata": {},
   "outputs": [
    {
     "name": "stdout",
     "output_type": "stream",
     "text": [
      "100.0%: Clickbait\n"
     ]
    }
   ],
   "source": [
    "make_predict(text_test)"
   ]
  },
  {
   "cell_type": "code",
   "execution_count": 26,
   "id": "c582ae85-283f-44e8-a645-d4c639ca502c",
   "metadata": {},
   "outputs": [
    {
     "name": "stdout",
     "output_type": "stream",
     "text": [
      "88.2%: Clickbait\n"
     ]
    }
   ],
   "source": [
    "make_predict(\"Alliens will invade our earthss!\")"
   ]
  },
  {
   "cell_type": "code",
   "execution_count": 27,
   "id": "b26ec0cb-0616-4a73-a348-85fa9ccb23a3",
   "metadata": {},
   "outputs": [
    {
     "name": "stdout",
     "output_type": "stream",
     "text": [
      "17.8%: Clickbait\n"
     ]
    }
   ],
   "source": [
    "make_predict(\"Actor Discusses Challenges and Excitement in Upcoming Film Role\")"
   ]
  },
  {
   "cell_type": "code",
   "execution_count": 30,
   "id": "69222f7b-f1a7-43d2-bce0-b29544ec6f62",
   "metadata": {},
   "outputs": [
    {
     "name": "stdout",
     "output_type": "stream",
     "text": [
      "Error (endpoint tidak mereply dengan prediksi) \n",
      " {'error': 'Name: <unknown>, Feature: headline (data type: string) is required but could not be found.\\n\\t [[{{function_node __inference_serve_tf_examples_fn_159479}}{{node ParseExample/ParseExampleV2}}]]'}\n"
     ]
    }
   ],
   "source": [
    "make_predict(\"\")"
   ]
  },
  {
   "cell_type": "code",
   "execution_count": null,
   "id": "3bc58182-e6b1-4d61-965d-32923ffe7687",
   "metadata": {},
   "outputs": [],
   "source": []
  }
 ],
 "metadata": {
  "kernelspec": {
   "display_name": "Python 3 (ipykernel)",
   "language": "python",
   "name": "python3"
  },
  "language_info": {
   "codemirror_mode": {
    "name": "ipython",
    "version": 3
   },
   "file_extension": ".py",
   "mimetype": "text/x-python",
   "name": "python",
   "nbconvert_exporter": "python",
   "pygments_lexer": "ipython3",
   "version": "3.9.15"
  }
 },
 "nbformat": 4,
 "nbformat_minor": 5
}
